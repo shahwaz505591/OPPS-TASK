{
 "cells": [
  {
   "cell_type": "code",
   "execution_count": null,
   "id": "9e98db67-afc8-4854-ab14-a82d78250cfe",
   "metadata": {},
   "outputs": [],
   "source": [
    "Q1, Create a vehicle class with an init method having instance variables as name_of_vehicle, max_speed\n",
    "and average_of_vehicle.\n",
    "\n",
    "\n",
    "Ans:\n",
    "    class Vehicle:\n",
    "    def __init__(self, name_of_vehicle, max_speed, average_of_vehicle):\n",
    "        self.name_of_vehicle = name_of_vehicle\n",
    "        self.max_speed = max_speed\n",
    "        self.average_of_vehicle = average_of_vehicle\n",
    "\n",
    "# Example usage:\n",
    "vehicle1 = Vehicle(\"Car\", 200, 30)\n",
    "print(vehicle1.name_of_vehicle)  # Output: Car\n",
    "print(vehicle1.max_speed)        # Output: 200\n",
    "print(vehicle1.average_of_vehicle)  # Output: 30\n"
   ]
  },
  {
   "cell_type": "code",
   "execution_count": null,
   "id": "ca92333b-1aba-4e65-a2e3-89fd658239af",
   "metadata": {},
   "outputs": [],
   "source": [
    "Q2. Create a child class car from the vehicle class created in Que 1, which will inherit the vehicle class.\n",
    "Create a method named seating_capacity which takes capacity as an argument and returns the name of\n",
    "the vehicle and its seating capacity.\n",
    "Ans:\n",
    "    class Car(Vehicle):\n",
    "    def seating_capacity(self, capacity):\n",
    "        return f\"{self.name_of_vehicle} has a seating capacity of {capacity} people.\"\n",
    "\n",
    "# Example usage:\n",
    "car1 = Car(\"SUV\", 180, 25)\n",
    "print(car1.seating_capacity(5))  # Output: SUV has a seating capacity of 5 people.\n"
   ]
  },
  {
   "cell_type": "code",
   "execution_count": null,
   "id": "97ae3239-7805-428c-bb39-2fe9cc5fd17b",
   "metadata": {},
   "outputs": [],
   "source": [
    "Q3. What is multiple inheritance? Write a python code to demonstrate multiple inheritance.\n",
    "Ans:Multiple inheritance is a feature in object-oriented programming where a class can inherit attributes and methods from multiple parent classes.\n",
    " a child class can inherit from multiple parent classes using the following syntax:\n",
    "class ChildClass(ParentClass1, ParentClass2, ...):\n",
    "    # Child class definition\n",
    "\n",
    "    Here's a simple example to demonstrate multiple inheritance:\n",
    "    class Parent1:\n",
    "    def method1(self):\n",
    "        print(\"Parent 1 - Method 1\")\n",
    "\n",
    "class Parent2:\n",
    "    def method2(self):\n",
    "        print(\"Parent 2 - Method 2\")\n",
    "\n",
    "class Child(Parent1, Parent2):\n",
    "    def method3(self):\n",
    "        print(\"Child - Method 3\")\n",
    "\n",
    "# Example usage:\n",
    "child_obj = Child()\n",
    "child_obj.method1()  # Output: Parent 1 - Method 1\n",
    "child_obj.method2()  # Output: Parent 2 - Method 2\n",
    "child_obj.method3()  # Output: Child - Method 3\n"
   ]
  },
  {
   "cell_type": "code",
   "execution_count": null,
   "id": "b8c450bf-17df-4bc3-b749-a36f6c3e2c7a",
   "metadata": {},
   "outputs": [],
   "source": [
    "Q4. What are getter and setter in python? Create a class and create a getter and a setter method in this class.\n",
    "Ans:\n",
    "    Getters and setters are methods used to access and modify the attributes of a class in a controlled manner. They provide an additional layer of abstraction and can be used to enforce data validation and encapsulation.\n",
    "\n",
    "Getter: A getter method is used to retrieve the value of an attribute. It is usually prefixed with get_.\n",
    "\n",
    "Setter: A setter method is used to set the value of an attribute. It is usually prefixed with set_.\n",
    "\n",
    "Here's an example of a class with a getter and a setter:\n",
    "class Person:\n",
    "    def __init__(self, name):\n",
    "        self._name = name  # Private attribute with underscore\n",
    "\n",
    "    def get_name(self):\n",
    "        return self._name\n",
    "\n",
    "    def set_name(self, new_name):\n",
    "        if isinstance(new_name, str):\n",
    "            self._name = new_name\n",
    "        else:\n",
    "            print(\"Invalid name. Please provide a string.\")\n",
    "\n",
    "# Example usage:\n",
    "person1 = Person(\"Alice\")\n",
    "print(person1.get_name())  # Output: Alice\n",
    "\n",
    "person1.set_name(\"Bob\")\n",
    "print(person1.get_name())  # Output: Bob\n",
    "\n",
    "person1.set_name(123)  # Output: Invalid name. Please provide a string.\n"
   ]
  },
  {
   "cell_type": "markdown",
   "id": "5a31be5a-a3fa-4819-8f10-4e212840f160",
   "metadata": {},
   "source": [
    "Q5.What is method overriding in python? Write a python code to demonstrate method overriding.\n",
    "Ans:\n",
    "    Method overriding is a concept in object-oriented programming where a subclass provides a specific implementation of a method that is already defined in its parent class. This allows the subclass to override the behavior of the method inherited from the parent class.\n",
    "\n",
    "Here's an example of method overriding:\n",
    "class Parent:\n",
    "    def show_info(self):\n",
    "        print(\"Parent class method\")\n",
    "\n",
    "class Child(Parent):\n",
    "    def show_info(self):\n",
    "        print(\"Child class method\")\n",
    "\n",
    "# Example usage:\n",
    "parent_obj = Parent()\n",
    "parent_obj.show_info()  # Output: Parent class method\n",
    "\n",
    "child_obj = Child()\n",
    "child_obj.show_info()  # Output: Child class method\n",
    "\n",
    "the Child class inherits from the Parent class and overrides the show_info() method. When calling the method on a Child object, the overridden implementation in the Child class is executed instead of the one in the Parent class. \n",
    "Method overriding allows for polymorphism, where objects of different classes can be treated uniformly based on a common interface\n",
    "    "
   ]
  },
  {
   "cell_type": "code",
   "execution_count": null,
   "id": "eaa52d0a-5762-4cb5-a7ed-95c3e5fe1d4d",
   "metadata": {},
   "outputs": [],
   "source": []
  },
  {
   "cell_type": "code",
   "execution_count": null,
   "id": "bc74c404-f2ac-4071-831e-9acba728bbba",
   "metadata": {},
   "outputs": [],
   "source": []
  }
 ],
 "metadata": {
  "kernelspec": {
   "display_name": "Python 3 (ipykernel)",
   "language": "python",
   "name": "python3"
  },
  "language_info": {
   "codemirror_mode": {
    "name": "ipython",
    "version": 3
   },
   "file_extension": ".py",
   "mimetype": "text/x-python",
   "name": "python",
   "nbconvert_exporter": "python",
   "pygments_lexer": "ipython3",
   "version": "3.10.8"
  }
 },
 "nbformat": 4,
 "nbformat_minor": 5
}
